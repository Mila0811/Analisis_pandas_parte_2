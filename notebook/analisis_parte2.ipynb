{
 "cells": [
  {
   "cell_type": "markdown",
   "metadata": {},
   "source": [
    "2.1. Carga el archivo retail_sales.csv en un DataFrame de Pandas."
   ]
  },
  {
   "cell_type": "code",
   "execution_count": 1,
   "metadata": {},
   "outputs": [],
   "source": [
    "import pandas as pd\n",
    "\n",
    "df = pd.read_csv('../data/retail_sales.csv')"
   ]
  },
  {
   "cell_type": "markdown",
   "metadata": {},
   "source": [
    "2.2. Muestra las primeras 10 filas del DataFrame para confirmar que los datos se han cargado correctamente."
   ]
  },
  {
   "cell_type": "code",
   "execution_count": 2,
   "metadata": {},
   "outputs": [
    {
     "name": "stdout",
     "output_type": "stream",
     "text": [
      "   Transaction ID        Date Customer ID  Gender  Age Product Category  \\\n",
      "0               1  2023-11-24     CUST001    Male   34           Beauty   \n",
      "1               2  2023-02-27     CUST002  Female   26         Clothing   \n",
      "2               3  2023-01-13     CUST003    Male   50      Electronics   \n",
      "3               4  2023-05-21     CUST004    Male   37         Clothing   \n",
      "4               5  2023-05-06     CUST005    Male   30           Beauty   \n",
      "5               6  2023-04-25     CUST006  Female   45           Beauty   \n",
      "6               7  2023-03-13     CUST007    Male   46         Clothing   \n",
      "7               8  2023-02-22     CUST008    Male   30      Electronics   \n",
      "8               9  2023-12-13     CUST009    Male   63      Electronics   \n",
      "9              10  2023-10-07     CUST010  Female   52         Clothing   \n",
      "\n",
      "   Quantity  Price per Unit  Total Amount  \n",
      "0         3              50           150  \n",
      "1         2             500          1000  \n",
      "2         1              30            30  \n",
      "3         1             500           500  \n",
      "4         2              50           100  \n",
      "5         1              30            30  \n",
      "6         2              25            50  \n",
      "7         4              25           100  \n",
      "8         2             300           600  \n",
      "9         4              50           200  \n"
     ]
    }
   ],
   "source": [
    "print(df.head(10))"
   ]
  },
  {
   "cell_type": "markdown",
   "metadata": {},
   "source": [
    "3.1. Muestra las últimas 5 filas del DataFrame."
   ]
  },
  {
   "cell_type": "code",
   "execution_count": 3,
   "metadata": {},
   "outputs": [
    {
     "name": "stdout",
     "output_type": "stream",
     "text": [
      "     Transaction ID        Date Customer ID  Gender  Age Product Category  \\\n",
      "995             996  2023-05-16     CUST996    Male   62         Clothing   \n",
      "996             997  2023-11-17     CUST997    Male   52           Beauty   \n",
      "997             998  2023-10-29     CUST998  Female   23           Beauty   \n",
      "998             999  2023-12-05     CUST999  Female   36      Electronics   \n",
      "999            1000  2023-04-12    CUST1000    Male   47      Electronics   \n",
      "\n",
      "     Quantity  Price per Unit  Total Amount  \n",
      "995         1              50            50  \n",
      "996         3              30            90  \n",
      "997         4              25           100  \n",
      "998         3              50           150  \n",
      "999         4              30           120  \n"
     ]
    }
   ],
   "source": [
    "print(df.tail(5))"
   ]
  },
  {
   "cell_type": "markdown",
   "metadata": {},
   "source": [
    "3.2. Utiliza el método info() para obtener información general sobre el DataFrame, incluyendo el número de entradas, nombres de las columnas, tipos de datos y memoria utilizada."
   ]
  },
  {
   "cell_type": "code",
   "execution_count": 4,
   "metadata": {},
   "outputs": [
    {
     "name": "stdout",
     "output_type": "stream",
     "text": [
      "<class 'pandas.core.frame.DataFrame'>\n",
      "RangeIndex: 1000 entries, 0 to 999\n",
      "Data columns (total 9 columns):\n",
      " #   Column            Non-Null Count  Dtype \n",
      "---  ------            --------------  ----- \n",
      " 0   Transaction ID    1000 non-null   int64 \n",
      " 1   Date              1000 non-null   object\n",
      " 2   Customer ID       1000 non-null   object\n",
      " 3   Gender            1000 non-null   object\n",
      " 4   Age               1000 non-null   int64 \n",
      " 5   Product Category  1000 non-null   object\n",
      " 6   Quantity          1000 non-null   int64 \n",
      " 7   Price per Unit    1000 non-null   int64 \n",
      " 8   Total Amount      1000 non-null   int64 \n",
      "dtypes: int64(5), object(4)\n",
      "memory usage: 70.4+ KB\n"
     ]
    }
   ],
   "source": [
    "df.info()"
   ]
  },
  {
   "cell_type": "markdown",
   "metadata": {},
   "source": [
    "3.3. Genera estadísticas descriptivas del DataFrame utilizando el método describe()."
   ]
  },
  {
   "cell_type": "code",
   "execution_count": 5,
   "metadata": {},
   "outputs": [
    {
     "name": "stdout",
     "output_type": "stream",
     "text": [
      "       Transaction ID         Age     Quantity  Price per Unit  Total Amount\n",
      "count     1000.000000  1000.00000  1000.000000     1000.000000   1000.000000\n",
      "mean       500.500000    41.39200     2.514000      179.890000    456.000000\n",
      "std        288.819436    13.68143     1.132734      189.681356    559.997632\n",
      "min          1.000000    18.00000     1.000000       25.000000     25.000000\n",
      "25%        250.750000    29.00000     1.000000       30.000000     60.000000\n",
      "50%        500.500000    42.00000     3.000000       50.000000    135.000000\n",
      "75%        750.250000    53.00000     4.000000      300.000000    900.000000\n",
      "max       1000.000000    64.00000     4.000000      500.000000   2000.000000\n"
     ]
    }
   ],
   "source": [
    "print(df.describe())"
   ]
  },
  {
   "cell_type": "markdown",
   "metadata": {},
   "source": [
    "4.1. Inspecciona los tipos de datos de cada columna utilizando el atributo dtypes.\n",
    "\n"
   ]
  },
  {
   "cell_type": "code",
   "execution_count": 6,
   "metadata": {},
   "outputs": [
    {
     "name": "stdout",
     "output_type": "stream",
     "text": [
      "Transaction ID       int64\n",
      "Date                object\n",
      "Customer ID         object\n",
      "Gender              object\n",
      "Age                  int64\n",
      "Product Category    object\n",
      "Quantity             int64\n",
      "Price per Unit       int64\n",
      "Total Amount         int64\n",
      "dtype: object\n"
     ]
    }
   ],
   "source": [
    "print(df.dtypes)"
   ]
  },
  {
   "cell_type": "markdown",
   "metadata": {},
   "source": [
    "4.2. Cuenta los valores únicos en la columna Producto utilizando el método value_counts()."
   ]
  },
  {
   "cell_type": "code",
   "execution_count": 7,
   "metadata": {},
   "outputs": [
    {
     "name": "stdout",
     "output_type": "stream",
     "text": [
      "Product Category\n",
      "Clothing       351\n",
      "Electronics    342\n",
      "Beauty         307\n",
      "Name: count, dtype: int64\n"
     ]
    }
   ],
   "source": [
    "print(df['Product Category'].value_counts())"
   ]
  },
  {
   "cell_type": "markdown",
   "metadata": {},
   "source": [
    "4.3. Muestra todos los valores únicos en la columna Tienda utilizando el método unique()."
   ]
  },
  {
   "cell_type": "code",
   "execution_count": 10,
   "metadata": {},
   "outputs": [
    {
     "name": "stdout",
     "output_type": "stream",
     "text": [
      "['Beauty' 'Clothing' 'Electronics']\n"
     ]
    }
   ],
   "source": [
    "print(df['Product Category'].unique())"
   ]
  },
  {
   "cell_type": "markdown",
   "metadata": {},
   "source": [
    "\n",
    "5.1. Filtra el DataFrame para mostrar solo las filas donde las ventas (Ventas) sean mayores a 50.\n"
   ]
  },
  {
   "cell_type": "code",
   "execution_count": 12,
   "metadata": {},
   "outputs": [
    {
     "name": "stdout",
     "output_type": "stream",
     "text": [
      "\n",
      "Filas donde Ventas > 50:\n",
      "     Transaction ID        Date Customer ID  Gender  Age Product Category  \\\n",
      "0                 1  2023-11-24     CUST001    Male   34           Beauty   \n",
      "1                 2  2023-02-27     CUST002  Female   26         Clothing   \n",
      "3                 4  2023-05-21     CUST004    Male   37         Clothing   \n",
      "4                 5  2023-05-06     CUST005    Male   30           Beauty   \n",
      "7                 8  2023-02-22     CUST008    Male   30      Electronics   \n",
      "..              ...         ...         ...     ...  ...              ...   \n",
      "993             994  2023-12-18     CUST994  Female   51           Beauty   \n",
      "996             997  2023-11-17     CUST997    Male   52           Beauty   \n",
      "997             998  2023-10-29     CUST998  Female   23           Beauty   \n",
      "998             999  2023-12-05     CUST999  Female   36      Electronics   \n",
      "999            1000  2023-04-12    CUST1000    Male   47      Electronics   \n",
      "\n",
      "     Quantity  Price per Unit  Total Amount  \n",
      "0           3              50           150  \n",
      "1           2             500          1000  \n",
      "3           1             500           500  \n",
      "4           2              50           100  \n",
      "7           4              25           100  \n",
      "..        ...             ...           ...  \n",
      "993         2             500          1000  \n",
      "996         3              30            90  \n",
      "997         4              25           100  \n",
      "998         3              50           150  \n",
      "999         4              30           120  \n",
      "\n",
      "[783 rows x 9 columns]\n"
     ]
    }
   ],
   "source": [
    "ventas_mayores_50 = df[df['Total Amount'] > 50]\n",
    "print(\"\\nFilas donde Ventas > 50:\")\n",
    "print(ventas_mayores_50)"
   ]
  },
  {
   "cell_type": "markdown",
   "metadata": {},
   "source": [
    "5.2. Filtra el DataFrame para mostrar solo las filas donde el precio (Precio) sea menor a 0.5.\n"
   ]
  },
  {
   "cell_type": "code",
   "execution_count": 15,
   "metadata": {},
   "outputs": [
    {
     "name": "stdout",
     "output_type": "stream",
     "text": [
      "\n",
      "Filas donde Precio < 0.5:\n",
      "Empty DataFrame\n",
      "Columns: [Transaction ID, Date, Customer ID, Gender, Age, Product Category, Quantity, Price per Unit, Total Amount]\n",
      "Index: []\n"
     ]
    }
   ],
   "source": [
    "precio_menor_05 = df[df['Price per Unit'] < 0.5]\n",
    "print(\"\\nFilas donde Precio < 0.5:\")\n",
    "print(precio_menor_05)"
   ]
  },
  {
   "cell_type": "markdown",
   "metadata": {},
   "source": [
    "5.3. Utilizando el método query(), filtra el DataFrame para mostrar las filas donde el producto sea Manzanas y las ventas sean mayores a 30.\n"
   ]
  },
  {
   "cell_type": "code",
   "execution_count": 22,
   "metadata": {},
   "outputs": [
    {
     "name": "stdout",
     "output_type": "stream",
     "text": [
      "\n",
      "Filas donde Product Category es 'Electronics' y Total Amount > 30:\n",
      "     Transaction ID        Date Customer ID  Gender  Age Product Category  \\\n",
      "7                 8  2023-02-22     CUST008    Male   30      Electronics   \n",
      "8                 9  2023-12-13     CUST009    Male   63      Electronics   \n",
      "12               13  2023-08-05     CUST013    Male   22      Electronics   \n",
      "14               15  2023-01-16     CUST015  Female   42      Electronics   \n",
      "17               18  2023-04-30     CUST018  Female   47      Electronics   \n",
      "..              ...         ...         ...     ...  ...              ...   \n",
      "984             985  2023-05-30     CUST985  Female   19      Electronics   \n",
      "991             992  2023-08-21     CUST992  Female   57      Electronics   \n",
      "992             993  2023-02-06     CUST993  Female   48      Electronics   \n",
      "998             999  2023-12-05     CUST999  Female   36      Electronics   \n",
      "999            1000  2023-04-12    CUST1000    Male   47      Electronics   \n",
      "\n",
      "     Quantity  Price per Unit  Total Amount  \n",
      "7           4              25           100  \n",
      "8           2             300           600  \n",
      "12          3             500          1500  \n",
      "14          4             500          2000  \n",
      "17          2              25            50  \n",
      "..        ...             ...           ...  \n",
      "984         2              25            50  \n",
      "991         2              30            60  \n",
      "992         3              50           150  \n",
      "998         3              50           150  \n",
      "999         4              30           120  \n",
      "\n",
      "[308 rows x 9 columns]\n"
     ]
    }
   ],
   "source": [
    "ventas_mayores_30 = df.query(\"`Product Category` == 'Electronics' and `Total Amount` > 30\")\n",
    "print(\"\\nFilas donde Product Category es 'Electronics' y Total Amount > 30:\")\n",
    "print(ventas_mayores_30)"
   ]
  },
  {
   "cell_type": "markdown",
   "metadata": {},
   "source": [
    "\n",
    "6.1. Selecciona y muestra solo las columnas Producto y Ventas del DataFrame.\n"
   ]
  },
  {
   "cell_type": "code",
   "execution_count": 24,
   "metadata": {},
   "outputs": [
    {
     "name": "stdout",
     "output_type": "stream",
     "text": [
      "\n",
      "Columnas 'Producto' y 'Ventas':\n",
      "    Product Category  Total Amount\n",
      "0             Beauty           150\n",
      "1           Clothing          1000\n",
      "2        Electronics            30\n",
      "3           Clothing           500\n",
      "4             Beauty           100\n",
      "..               ...           ...\n",
      "995         Clothing            50\n",
      "996           Beauty            90\n",
      "997           Beauty           100\n",
      "998      Electronics           150\n",
      "999      Electronics           120\n",
      "\n",
      "[1000 rows x 2 columns]\n"
     ]
    }
   ],
   "source": [
    "producto_ventas = df[['Product Category', 'Total Amount']]\n",
    "print(\"\\nColumnas 'Producto' y 'Ventas':\")\n",
    "print(producto_ventas)"
   ]
  },
  {
   "cell_type": "markdown",
   "metadata": {},
   "source": [
    "6.2. Utilizando loc[], selecciona y muestra las filas de la 5 a la 10 (inclusive) y las columnas Producto y Tienda.\n"
   ]
  },
  {
   "cell_type": "code",
   "execution_count": 27,
   "metadata": {},
   "outputs": [
    {
     "name": "stdout",
     "output_type": "stream",
     "text": [
      "\n",
      "Filas de la 5 a la 10 y columnas 'Producto' y '':\n",
      "   Product Category Customer ID\n",
      "5            Beauty     CUST006\n",
      "6          Clothing     CUST007\n",
      "7       Electronics     CUST008\n",
      "8       Electronics     CUST009\n",
      "9          Clothing     CUST010\n",
      "10         Clothing     CUST011\n"
     ]
    }
   ],
   "source": [
    "loc_seleccion = df.loc[5:10, ['Product Category', 'Customer ID']]\n",
    "print(\"\\nFilas de la 5 a la 10 y columnas 'Producto' y '':\")\n",
    "print(loc_seleccion)"
   ]
  },
  {
   "cell_type": "markdown",
   "metadata": {},
   "source": [
    "6.3. Utilizando iloc[], selecciona y muestra las primeras 5 filas y las primeras 3 columnas del DataFrame."
   ]
  },
  {
   "cell_type": "code",
   "execution_count": 25,
   "metadata": {},
   "outputs": [
    {
     "name": "stdout",
     "output_type": "stream",
     "text": [
      "\n",
      "Primeras 5 filas y primeras 3 columnas:\n",
      "   Transaction ID        Date Customer ID\n",
      "0               1  2023-11-24     CUST001\n",
      "1               2  2023-02-27     CUST002\n",
      "2               3  2023-01-13     CUST003\n",
      "3               4  2023-05-21     CUST004\n",
      "4               5  2023-05-06     CUST005\n"
     ]
    }
   ],
   "source": [
    "iloc_seleccion = df.iloc[:5, :3]\n",
    "print(\"\\nPrimeras 5 filas y primeras 3 columnas:\")\n",
    "print(iloc_seleccion)"
   ]
  }
 ],
 "metadata": {
  "kernelspec": {
   "display_name": "base",
   "language": "python",
   "name": "python3"
  },
  "language_info": {
   "codemirror_mode": {
    "name": "ipython",
    "version": 3
   },
   "file_extension": ".py",
   "mimetype": "text/x-python",
   "name": "python",
   "nbconvert_exporter": "python",
   "pygments_lexer": "ipython3",
   "version": "3.12.4"
  }
 },
 "nbformat": 4,
 "nbformat_minor": 2
}
